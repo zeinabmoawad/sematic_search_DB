{
  "cells": [
    {
      "cell_type": "code",
      "execution_count": 1,
      "metadata": {
        "colab": {
          "base_uri": "https://localhost:8080/"
        },
        "id": "XqHBk9TGenDV",
        "outputId": "a98fc5e4-c0c5-4115-8f9f-1903efb131cf"
      },
      "outputs": [
        {
          "name": "stdout",
          "output_type": "stream",
          "text": [
            "Requirement already satisfied: faiss-cpu in /usr/local/lib/python3.10/dist-packages (1.7.4)\n"
          ]
        }
      ],
      "source": [
        "# !pip install faiss-cpu"
      ]
    },
    {
      "cell_type": "code",
      "execution_count": 2,
      "metadata": {
        "id": "0T8LB0ZKeoAV"
      },
      "outputs": [],
      "source": [
        "import faiss\n",
        "import numpy as np\n",
        "import time\n",
        "import psutil"
      ]
    },
    {
      "cell_type": "code",
      "execution_count": 1,
      "metadata": {},
      "outputs": [
        {
          "name": "stdout",
          "output_type": "stream",
          "text": [
            "hello\n"
          ]
        }
      ],
      "source": [
        "print(\"hello\")"
      ]
    },
    {
      "cell_type": "code",
      "execution_count": 3,
      "metadata": {
        "id": "tkqPnm0tdudk"
      },
      "outputs": [],
      "source": [
        "#memory\n",
        "def used_memory():\n",
        " return psutil.Process().memory_info().rss"
      ]
    },
    {
      "cell_type": "code",
      "execution_count": 4,
      "metadata": {
        "id": "W4gHJE7qeF_J"
      },
      "outputs": [],
      "source": [
        "def recall(I,flat_I):\n",
        "  counter = 0\n",
        "  for i in I[0]:\n",
        "    if i in flat_I[0]:\n",
        "      counter += 1\n",
        "  return counter"
      ]
    },
    {
      "cell_type": "code",
      "execution_count": 5,
      "metadata": {
        "id": "l8tWO8ZceIya"
      },
      "outputs": [],
      "source": [
        "d=70\n",
        "k=10\n",
        "vectors_input_size=[12000000]\n",
        "diff_index_factory=[\"IVF256,PQ35x8\"]\n",
        "nprobes = [1,2,4,8,16,32,64,128,256,512]\n"
      ]
    },
    {
      "cell_type": "code",
      "execution_count": null,
      "metadata": {
        "colab": {
          "base_uri": "https://localhost:8080/"
        },
        "id": "Cmfrin19onJS",
        "outputId": "f07b8ba4-957e-4921-9b8a-e2a55de3048f"
      },
      "outputs": [
        {
          "name": "stdout",
          "output_type": "stream",
          "text": [
            "===================At Model==================== IVF256,PQ35x8\n",
            "================At Size================== 12000000\n",
            "================At nprob================== 1\n"
          ]
        }
      ],
      "source": [
        "for indextype in diff_index_factory:\n",
        "  print(\"===================At Model==================== \"+indextype)\n",
        "  for size in vectors_input_size:\n",
        "    print(\"================At Size================== \"+str(size))\n",
        "    xb = np.random.random((size,d))\n",
        "    xq = np.random.random((1,d))\n",
        "    index=faiss.index_factory(d,indextype)\n",
        "    index.train(xb)\n",
        "    index.add(xb)\n",
        "    process = psutil.Process()\n",
        "    memory_usage = process.memory_info().rss  # in bytes\n",
        "    # which defines how many nearby cells to search.\n",
        "    for nprobe in nprobes:\n",
        "      index.nprobe = nprobe\n",
        "      print(\"================At nprob================== \"+str(nprobe))\n",
        "      # Perform a search and measure time\n",
        "      start_time = time.time()\n",
        "      D, I = index.search(xq, k)\n",
        "      end_time = time.time()\n",
        "      search_time = end_time - start_time\n",
        "\n",
        "      #Recall\n",
        "      flat_index = faiss.index_factory(d,\"Flat\")\n",
        "      flat_index.train(xb)\n",
        "      flat_index.add(xb)\n",
        "      flat_D, flat_I = flat_index.search(xq,k)\n",
        "      r=recall(I,flat_I)\n",
        "\n",
        "      print(\"======Recall:========= \", r)\n",
        "      print(\"========Search Time==: \", search_time, \"seconds\")\n",
        "    print(\"=====Memory Usage====: \", memory_usage, \"bytes\")"
      ]
    }
  ],
  "metadata": {
    "colab": {
      "provenance": [],
      "toc_visible": true
    },
    "kernelspec": {
      "display_name": "base",
      "language": "python",
      "name": "python3"
    },
    "language_info": {
      "codemirror_mode": {
        "name": "ipython",
        "version": 3
      },
      "file_extension": ".py",
      "mimetype": "text/x-python",
      "name": "python",
      "nbconvert_exporter": "python",
      "pygments_lexer": "ipython3",
      "version": "3.10.9"
    }
  },
  "nbformat": 4,
  "nbformat_minor": 0
}
