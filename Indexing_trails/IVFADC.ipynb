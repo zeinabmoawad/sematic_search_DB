{
  "cells": [
    {
      "cell_type": "code",
      "source": [
        "# !pip install faiss-cpu"
      ],
      "metadata": {
        "id": "XqHBk9TGenDV"
      },
      "execution_count": 87,
      "outputs": []
    },
    {
      "cell_type": "code",
      "source": [
        "import faiss\n",
        "import numpy as np\n",
        "import time\n",
        "import psutil"
      ],
      "metadata": {
        "id": "0T8LB0ZKeoAV"
      },
      "execution_count": 88,
      "outputs": []
    },
    {
      "cell_type": "code",
      "source": [
        "d=70\n",
        "k=10\n",
        "vectors_num=1000000"
      ],
      "metadata": {
        "id": "Cmfrin19onJS"
      },
      "execution_count": 89,
      "outputs": []
    },
    {
      "cell_type": "code",
      "source": [
        "xb = np.random.random((vectors_num,d))\n",
        "xq = np.random.random((1,d))"
      ],
      "metadata": {
        "id": "8A_N-oSEewlF"
      },
      "execution_count": 90,
      "outputs": []
    },
    {
      "cell_type": "code",
      "source": [
        "index=faiss.index_factory(d,\"IVF256,PQ35x8\")\n",
        "index.train(xb)\n",
        "index.add(xb)"
      ],
      "metadata": {
        "id": "5Ks-xczoe_Yv"
      },
      "execution_count": 91,
      "outputs": []
    },
    {
      "cell_type": "code",
      "source": [
        " #  which defines how many nearby cells to search.\n",
        "index.nprobe = 200"
      ],
      "metadata": {
        "id": "5rJ-anqCrOaK"
      },
      "execution_count": 92,
      "outputs": []
    },
    {
      "cell_type": "code",
      "source": [
        "# Perform a search and measure time\n",
        "start_time = time.time()\n",
        "k = 10  # Number of nearest neighbors to retrieve\n",
        "D, I = index.search(xq, k)\n",
        "end_time = time.time()\n",
        "search_time = end_time - start_time"
      ],
      "metadata": {
        "id": "vNxjk9S9fn1m"
      },
      "execution_count": 93,
      "outputs": []
    },
    {
      "cell_type": "code",
      "source": [
        "print(D,I)"
      ],
      "metadata": {
        "id": "18jJOi-EhBVD",
        "colab": {
          "base_uri": "https://localhost:8080/"
        },
        "outputId": "3c321821-cf0f-4113-a07c-074d64bfbfd3"
      },
      "execution_count": 94,
      "outputs": [
        {
          "output_type": "stream",
          "name": "stdout",
          "text": [
            "[[5.35612   5.465849  5.4696817 5.47971   5.6797886 5.744166  5.7751226\n",
            "  5.9139147 5.939762  5.961872 ]] [[298544 894484  68747 331986 807000 312020 104109  61151 335843 991818]]\n"
          ]
        }
      ]
    },
    {
      "cell_type": "code",
      "source": [
        "process = psutil.Process()\n",
        "memory_usage = process.memory_info().rss  # in bytes"
      ],
      "metadata": {
        "id": "pYT8wUVevch0"
      },
      "execution_count": 95,
      "outputs": []
    },
    {
      "cell_type": "code",
      "source": [
        "flat_index = faiss.index_factory(d,\"Flat\")\n",
        "flat_index.train(xb)\n",
        "flat_index.add(xb)\n",
        "flat_D, flat_I = flat_index.search(xq,k)\n",
        "\n",
        "def recall(I):\n",
        "  counter = 0\n",
        "  for i in I[0]:\n",
        "    if i in flat_I[0]:\n",
        "      counter += 1\n",
        "  return counter"
      ],
      "metadata": {
        "id": "YxI9ROJQnqq1"
      },
      "execution_count": 96,
      "outputs": []
    },
    {
      "cell_type": "code",
      "source": [
        "print(flat_D, flat_I )"
      ],
      "metadata": {
        "id": "8P1U2pxnrgFv",
        "colab": {
          "base_uri": "https://localhost:8080/"
        },
        "outputId": "6aef73ff-3de8-4bc5-e524-8237550651a2"
      },
      "execution_count": 97,
      "outputs": [
        {
          "output_type": "stream",
          "name": "stdout",
          "text": [
            "[[5.434666  5.453262  5.487416  5.5594473 5.584151  5.780057  5.8802905\n",
            "  5.8956423 5.9012766 5.9270167]] [[331986  68747 298544 894484 807000 104109 335843 222374  61151 312020]]\n"
          ]
        }
      ]
    },
    {
      "cell_type": "code",
      "source": [
        "r=recall(I)"
      ],
      "metadata": {
        "id": "81XRzHJUhqt_"
      },
      "execution_count": 98,
      "outputs": []
    },
    {
      "cell_type": "code",
      "source": [
        "# Print the results\n",
        "print(\"d:\",d)\n",
        "print(\"Recall:\", r)\n",
        "print(\"Search Time:\", search_time, \"seconds\")\n",
        "print(\"Memory Usage:\", memory_usage, \"bytes\")"
      ],
      "metadata": {
        "id": "I8YRGAUSuuFQ",
        "colab": {
          "base_uri": "https://localhost:8080/"
        },
        "outputId": "763391ff-b398-4e0d-8c81-5ad969de53cc"
      },
      "execution_count": 99,
      "outputs": [
        {
          "output_type": "stream",
          "name": "stdout",
          "text": [
            "d: 70\n",
            "Recall: 9\n",
            "Search Time: 0.019185304641723633 seconds\n",
            "Memory Usage: 1045426176 bytes\n"
          ]
        }
      ]
    }
  ],
  "metadata": {
    "kernelspec": {
      "display_name": "base",
      "language": "python",
      "name": "python3"
    },
    "language_info": {
      "codemirror_mode": {
        "name": "ipython",
        "version": 3
      },
      "file_extension": ".py",
      "mimetype": "text/x-python",
      "name": "python",
      "nbconvert_exporter": "python",
      "pygments_lexer": "ipython3",
      "version": "3.10.9"
    },
    "colab": {
      "provenance": [],
      "toc_visible": true
    }
  },
  "nbformat": 4,
  "nbformat_minor": 0
}